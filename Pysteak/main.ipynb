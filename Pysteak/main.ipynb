{
 "cells": [
  {
   "cell_type": "code",
   "execution_count": 75,
   "id": "7149326d-08e2-40fa-bad4-6c743fb481a1",
   "metadata": {},
   "outputs": [],
   "source": [
    "# Import libraries\n",
    "import csv\n",
    "from pathlib import Path\n",
    "from datetime import datetime\n",
    "\n",
    "# Set file paths for menu_data.csv and sales_data.csv\n",
    "menu_filepath = Path('Resources/menu_data.csv')\n",
    "sales_filepath = Path('Resources/sales_data.csv')\n",
    "\n",
    "# Initialize list objects to hold our menu and sales data\n",
    "menu = []\n",
    "sales = []\n",
    "menuline_num=0\n",
    "salesline_num=0"
   ]
  },
  {
   "cell_type": "code",
   "execution_count": 76,
   "id": "6c7f0111-add2-4c08-bafb-e130a37c0a6c",
   "metadata": {},
   "outputs": [
    {
     "name": "stdout",
     "output_type": "stream",
     "text": [
      "<class '_io.TextIOWrapper'>\n",
      "<class '_csv.reader'>\n",
      "HEADER: ['item', 'category', 'description', 'price', 'cost']\n"
     ]
    }
   ],
   "source": [
    "# Read in the menu data into the menu list\n",
    "with open(menu_filepath, 'r') as file:\n",
    "    \n",
    "    print(type(file))\n",
    "    \n",
    "    csvreader = csv.reader(file, delimiter=',')\n",
    "    print(type(csvreader))\n",
    "    \n",
    "    header = next(csvreader)\n",
    "    menuline_num += 1\n",
    "    print(f'HEADER: {header}')\n",
    "\n",
    "    for row in csvreader:\n",
    "        \n",
    "        next_row = row\n",
    "        menu.append(next_row)"
   ]
  },
  {
   "cell_type": "code",
   "execution_count": 77,
   "id": "c51dc7ec-7fe9-4327-b1f6-f86a9e7dd780",
   "metadata": {},
   "outputs": [
    {
     "name": "stdout",
     "output_type": "stream",
     "text": [
      "<class '_io.TextIOWrapper'>\n",
      "<class '_csv.reader'>\n",
      "HEADER: ['Line_Item_ID', 'Date', 'Credit_Card_Number', 'Quantity', 'Menu_Item']\n"
     ]
    }
   ],
   "source": [
    "# Read in the sales data into the sales list\n",
    "with open(sales_filepath, 'r') as file:\n",
    "    \n",
    "    print(type(file))\n",
    "    \n",
    "    csvreader = csv.reader(file, delimiter=',')\n",
    "    print(type(csvreader))\n",
    "    \n",
    "    header = next(csvreader)\n",
    "    salesline_num += 1\n",
    "    print(f'HEADER: {header}')\n",
    "\n",
    "    for row in csvreader:\n",
    "        \n",
    "        next_row = row\n",
    "        sales.append(next_row)"
   ]
  },
  {
   "cell_type": "code",
   "execution_count": null,
   "id": "7ae7fee8-e11c-438a-95c5-e3fc9191d97f",
   "metadata": {},
   "outputs": [],
   "source": []
  },
  {
   "cell_type": "code",
   "execution_count": 78,
   "id": "143d9a81-dafb-4081-9794-40dbb6f98fbd",
   "metadata": {},
   "outputs": [
    {
     "name": "stdout",
     "output_type": "stream",
     "text": [
      "Total number of records in sales data: 74124\n",
      "{'spicy miso ramen': {'01-count': 9238.0, '02-revenue': 110856.0, '03-cogs': 46190.0, '04-profit': 64666.0}, 'tori paitan ramen': {'01-count': 9156.0, '02-revenue': 119028.0, '03-cogs': 54936.0, '04-profit': 64092.0}, 'truffle butter ramen': {'01-count': 8982.0, '02-revenue': 125748.0, '03-cogs': 62874.0, '04-profit': 62874.0}, 'tonkotsu ramen': {'01-count': 9288.0, '02-revenue': 120744.0, '03-cogs': 55728.0, '04-profit': 65016.0}, 'vegetarian spicy miso': {'01-count': 9216.0, '02-revenue': 110592.0, '03-cogs': 46080.0, '04-profit': 64512.0}, 'shio ramen': {'01-count': 9180.0, '02-revenue': 100980.0, '03-cogs': 45900.0, '04-profit': 55080.0}, 'miso crab ramen': {'01-count': 8890.0, '02-revenue': 106680.0, '03-cogs': 53340.0, '04-profit': 53340.0}, 'nagomi shoyu': {'01-count': 9132.0, '02-revenue': 100452.0, '03-cogs': 45660.0, '04-profit': 54792.0}, 'soft-shell miso crab ramen': {'01-count': 9130.0, '02-revenue': 127820.0, '03-cogs': 63910.0, '04-profit': 63910.0}, 'burnt garlic tonkotsu ramen': {'01-count': 9070.0, '02-revenue': 126980.0, '03-cogs': 54420.0, '04-profit': 72560.0}, 'vegetarian curry + king trumpet mushroom ramen': {'01-count': 8824.0, '02-revenue': 114712.0, '03-cogs': 61768.0, '04-profit': 52944.0}}\n",
      "total months of sales data: 24 months\n"
     ]
    }
   ],
   "source": [
    "\n",
    "# Initialize dict object to hold our key-value pairs of items and metrics\n",
    "report = {}\n",
    "\n",
    "# Initialize row counter, quantity, sales_item, item, price, cost, profit  variables\n",
    "row_count = 0\n",
    "quantity = 0\n",
    "item = 0\n",
    "price = 0\n",
    "cost = 0\n",
    "profit = 0\n",
    "# Loop over every row in the sales list object, capture variables\n",
    "for x in sales:\n",
    "    quantity = float(x[3])\n",
    "    sales_item = x[4]\n",
    "    # Check if sales_item is not in dictionary keys\n",
    "    if sales_item not in report.keys():\n",
    "        # then initialize values for each sales_item\n",
    "        report[sales_item] = {\n",
    "            \"01-count\": 0,\n",
    "            \"02-revenue\": 0,\n",
    "            \"03-cogs\": 0,\n",
    "            \"04-profit\": 0,\n",
    "        }\n",
    "    # Loop over every row in menu list object, capture variables\n",
    "    for y in menu:\n",
    "        item = y[0]\n",
    "        price = float(y[3])\n",
    "        cost = float(y[4])\n",
    "        \n",
    "        # Loop over every key in dictionary\n",
    "        if sales_item == item:\n",
    "            report[sales_item][\"01-count\"] += quantity\n",
    "            report[sales_item][\"02-revenue\"] += (price * quantity)\n",
    "            report[sales_item][\"03-cogs\"] += (cost * quantity)\n",
    "            report[sales_item][\"04-profit\"] += ((price - cost) * quantity)\n",
    "    row_count += 1\n",
    "    \n",
    "# Print total number of records in sales data\n",
    "print(f'Total number of records in sales data: {row_count}')\n",
    "print(report)\n",
    "print(f'total months of sales data: 24 months')\n",
    "\n",
    "\n",
    "# @TODO: Calculate profit of each item in the menu data\n",
    "\n",
    "# @TODO: total number of months, calculate most profitable item, item with highest cost (date and amount) "
   ]
  },
  {
   "cell_type": "code",
   "execution_count": 79,
   "id": "6fbb2908-6921-4216-b16c-9983738a6db3",
   "metadata": {},
   "outputs": [],
   "source": [
    "# defining month counting function (assuming dates start at beginning of month)\n",
    "def diff_month(d1, d2):\n",
    "    return (d1.year - d2.year) * 12 + d1.month - (d2.month - 1)"
   ]
  },
  {
   "cell_type": "code",
   "execution_count": 80,
   "id": "4aed271a-330d-44f3-a2da-cf04ed41cdcf",
   "metadata": {},
   "outputs": [
    {
     "name": "stdout",
     "output_type": "stream",
     "text": [
      "Months of sales data: 24\n"
     ]
    }
   ],
   "source": [
    "# turning first and last dates into datetime objects\n",
    "date1 = sales[0][1]\n",
    "date_object1 = datetime.strptime(date1, '%m-%d-%Y')\n",
    "last_day = (row_count - 1)\n",
    "date2 = sales[last_day][1]\n",
    "date_object2 = datetime.strptime(date2, '%m-%d-%Y')\n",
    "\n",
    "print(f'Months of sales data: {diff_month(date_object2, date_object1)}')"
   ]
  },
  {
   "cell_type": "code",
   "execution_count": 65,
   "id": "ec85aeff-14ff-49e1-bc4a-5b862d4ae192",
   "metadata": {},
   "outputs": [
    {
     "name": "stdout",
     "output_type": "stream",
     "text": [
      "The most profitable item was burnt garlic tonkotsu ramen\n"
     ]
    }
   ],
   "source": [
    "# function to find most profitable item\n",
    "def most_profit_item():\n",
    "    profit = 0\n",
    "    best_item = 0\n",
    "    # looping through each key as item and each value as results\n",
    "    for item, results in report.items():\n",
    "        if results['04-profit'] > profit:\n",
    "            profit = results['04-profit']\n",
    "            best_item = item\n",
    "    return best_item\n",
    "\n",
    "winner = most_profit_item()\n",
    "print(f'The most profitable item was {winner}')\n"
   ]
  },
  {
   "cell_type": "code",
   "execution_count": 69,
   "id": "964d25c3-f095-40a7-95d4-8e19b069e9c0",
   "metadata": {},
   "outputs": [
    {
     "name": "stdout",
     "output_type": "stream",
     "text": [
      "The most profitable date for burnt garlic tonkotsu ramen was 03-20-2018 with 48 sales.\n"
     ]
    }
   ],
   "source": [
    "# function to find most profitable date for winner\n",
    "def most_profit_date(winner, function):\n",
    "    item = winner\n",
    "    date = sales[0][1]\n",
    "    quantity = 0\n",
    "    highest_quantity = 0\n",
    "    best_date = 0\n",
    "    \n",
    "    for row in sales:        \n",
    "        # if winning item is in this row & row is in same date as previous, add quantity\n",
    "        if row[4] == item and row[1] == date:\n",
    "            quantity += int(row[3])\n",
    "        # else if winning item is in this row but row is in different date,\n",
    "        elif row[4] == item and row[1] != date:\n",
    "            # compare this date's quantity against highest quantity\n",
    "            if quantity > highest_quantity:\n",
    "                highest_quantity = quantity\n",
    "                best_date = date\n",
    "            # otherwise reset date and quantity\n",
    "            date = row[1]\n",
    "            quantity = int(row[3])\n",
    "            \n",
    "    # how to get the function to return different variables at different times\n",
    "    if function == 'date':\n",
    "        return best_date\n",
    "    elif function == 'quantity':\n",
    "        return highest_quantity\n",
    "    else:\n",
    "        print(\"Error: type 'date' or 'quantity' as second argument\")\n",
    "            \n",
    "print(f\"The most profitable date for {winner} was {most_profit_date(winner, 'date')} with {most_profit_date(winner, 'quantity')} sales.\")\n",
    "\n",
    "    "
   ]
  },
  {
   "cell_type": "code",
   "execution_count": 4,
   "id": "17e81863-9cb0-4042-b3ab-39f90561ceaa",
   "metadata": {},
   "outputs": [
    {
     "data": {
      "text/plain": [
       "[['1', '01-01-2017', '7437926611570799', '1', 'spicy miso ramen'],\n",
       " ['2', '01-01-2017', '7437926611570799', '1', 'spicy miso ramen'],\n",
       " ['3', '01-01-2017', '8421920068932819', '3', 'tori paitan ramen'],\n",
       " ['4', '01-01-2017', '8421920068932819', '3', 'tori paitan ramen']]"
      ]
     },
     "execution_count": 33,
     "metadata": {},
     "output_type": "execute_result"
    }
   ],
   "source": [
    "# list slicing test\n",
    "sales[0:4:1]"
   ]
  },
  {
   "cell_type": "code",
   "execution_count": 74,
   "id": "5e88c726-17b2-442b-a8c2-9aeb8b62985f",
   "metadata": {},
   "outputs": [
    {
     "name": "stdout",
     "output_type": "stream",
     "text": [
      "The item with highest cost of goods was soft-shell miso crab ramen\n"
     ]
    }
   ],
   "source": [
    "# function to find greatest cogs by total and which date\n",
    "def most_cogs_item():\n",
    "    cogs = 0\n",
    "    costly_item = 0\n",
    "    for item, results in report.items():\n",
    "        if results['03-cogs'] > cogs:\n",
    "            cogs = results['03-cogs']\n",
    "            costly_item = item\n",
    "    return costly_item\n",
    "\n",
    "\n",
    "heavy = most_cogs_item()\n",
    "print(f'The item with highest cost of goods was {heavy}')"
   ]
  },
  {
   "cell_type": "code",
   "execution_count": 70,
   "id": "b79bd359-a6c9-4421-8d05-f793da32bae4",
   "metadata": {},
   "outputs": [
    {
     "name": "stdout",
     "output_type": "stream",
     "text": [
      "The date with most sales for soft-shell miso crab ramen was 03-01-2017 with 44 sales.\n"
     ]
    }
   ],
   "source": [
    "# function to find most costly date for most costly item\n",
    "def most_cogs_date(heavy, function):\n",
    "    item = heavy\n",
    "    date = sales[0][1]\n",
    "    quantity = 0\n",
    "    highest_quantity = 0\n",
    "    best_date = 0\n",
    "    \n",
    "    for row in sales:        \n",
    "        if row[4] == item and row[1] == date:\n",
    "            quantity += int(row[3])\n",
    "        elif row[4] == item and row[1] != date:\n",
    "            if quantity > highest_quantity:\n",
    "                highest_quantity = quantity\n",
    "                best_date = date\n",
    "            date = row[1]\n",
    "            quantity = int(row[3])\n",
    "    \n",
    "    if function == 'date':\n",
    "        return best_date\n",
    "    elif function == 'quantity':\n",
    "        return highest_quantity\n",
    "    else:\n",
    "        print(\"Error: type 'date' or 'quantity' as second argument\")\n",
    "            \n",
    "print(f\"The date with most sales for {heavy} was {most_cogs_date(heavy, 'date')} with {most_profit_date(heavy, 'quantity')} sales.\")\n",
    "\n",
    "    "
   ]
  },
  {
   "cell_type": "code",
   "execution_count": 107,
   "id": "738af7cc-9974-4e0c-93d2-64398c2c07e7",
   "metadata": {},
   "outputs": [],
   "source": [
    "# Write to file\n",
    "txt_report = open('report.txt', 'w')\n",
    "txt_report.write(str(report))\n",
    "txt_report.close()"
   ]
  },
  {
   "cell_type": "code",
   "execution_count": null,
   "id": "a97d885e-7f0c-479f-aa97-35f5672928b6",
   "metadata": {},
   "outputs": [],
   "source": []
  },
  {
   "cell_type": "code",
   "execution_count": null,
   "id": "9b748fce-1280-4898-8364-c8e4b29b55e8",
   "metadata": {},
   "outputs": [],
   "source": [
    "# graveyard\n",
    "\n",
    "# with open('report.txt', 'w') as f:\n",
    "#    f.writelines(report)\n",
    "\n",
    "\n",
    "#    else:\n",
    "#        report[sales_item][\"01-count\"] += quantity"
   ]
  }
 ],
 "metadata": {
  "kernelspec": {
   "display_name": "Python 3 (ipykernel)",
   "language": "python",
   "name": "python3"
  },
  "language_info": {
   "codemirror_mode": {
    "name": "ipython",
    "version": 3
   },
   "file_extension": ".py",
   "mimetype": "text/x-python",
   "name": "python",
   "nbconvert_exporter": "python",
   "pygments_lexer": "ipython3",
   "version": "3.7.13"
  },
  "toc-autonumbering": true,
  "toc-showcode": true,
  "toc-showmarkdowntxt": true
 },
 "nbformat": 4,
 "nbformat_minor": 5
}
