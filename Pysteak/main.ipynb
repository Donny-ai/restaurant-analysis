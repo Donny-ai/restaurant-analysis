{
 "cells": [
  {
   "cell_type": "code",
   "execution_count": 42,
   "id": "7149326d-08e2-40fa-bad4-6c743fb481a1",
   "metadata": {},
   "outputs": [],
   "source": [
    "# -*- coding: UTF-8 -*-\n",
    "\"\"\"PySteak Homework Starter.\"\"\"\n",
    "\n",
    "# @TODO: Import libraries\n",
    "import csv\n",
    "from pathlib import Path\n",
    "\n",
    "# @TODO: Set file paths for menu_data.csv and sales_data.csv\n",
    "menu_filepath = Path('Resources/menu_data.csv')\n",
    "sales_filepath = Path('Resources/sales_data.csv')\n",
    "\n",
    "# @TODO: Initialize list objects to hold our menu and sales data\n",
    "menu = []\n",
    "sales = []\n",
    "menuline_num=0\n",
    "salesline_num=0"
   ]
  },
  {
   "cell_type": "code",
   "execution_count": 43,
   "id": "6c7f0111-add2-4c08-bafb-e130a37c0a6c",
   "metadata": {},
   "outputs": [
    {
     "name": "stdout",
     "output_type": "stream",
     "text": [
      "<class '_io.TextIOWrapper'>\n",
      "<class '_csv.reader'>\n",
      "HEADER: ['item', 'category', 'description', 'price', 'cost']\n"
     ]
    }
   ],
   "source": [
    "# @TODO: Read in the menu data into the menu list\n",
    "with open(menu_filepath, 'r') as file:\n",
    "    \n",
    "    print(type(file))\n",
    "    \n",
    "    csvreader = csv.reader(file, delimiter=',')\n",
    "    print(type(csvreader))\n",
    "    \n",
    "    header = next(csvreader)\n",
    "    menuline_num += 1\n",
    "    print(f'HEADER: {header}')\n",
    "\n",
    "    for row in csvreader:\n",
    "        \n",
    "        next_row = row\n",
    "        menu.append(next_row)"
   ]
  },
  {
   "cell_type": "code",
   "execution_count": 44,
   "id": "c51dc7ec-7fe9-4327-b1f6-f86a9e7dd780",
   "metadata": {},
   "outputs": [
    {
     "name": "stdout",
     "output_type": "stream",
     "text": [
      "<class '_io.TextIOWrapper'>\n",
      "<class '_csv.reader'>\n",
      "HEADER: ['Line_Item_ID', 'Date', 'Credit_Card_Number', 'Quantity', 'Menu_Item']\n"
     ]
    }
   ],
   "source": [
    "# @TODO: Read in the sales data into the sales list\n",
    "with open(sales_filepath, 'r') as file:\n",
    "    \n",
    "    print(type(file))\n",
    "    \n",
    "    csvreader = csv.reader(file, delimiter=',')\n",
    "    print(type(csvreader))\n",
    "    \n",
    "    header = next(csvreader)\n",
    "    salesline_num += 1\n",
    "    print(f'HEADER: {header}')\n",
    "\n",
    "    for row in csvreader:\n",
    "        \n",
    "        next_row = row\n",
    "        sales.append(next_row)"
   ]
  },
  {
   "cell_type": "code",
   "execution_count": 46,
   "id": "17e81863-9cb0-4042-b3ab-39f90561ceaa",
   "metadata": {},
   "outputs": [
    {
     "data": {
      "text/plain": [
       "[['edamame', 'appetizers', 'boiled soybeans, maldon sea salt', '4', '1'],\n",
       " ['house salad',\n",
       "  'appetizers',\n",
       "  'mixed greens, cherry tomatoes, cucumber, house ginger dressing',\n",
       "  '4',\n",
       "  '2']]"
      ]
     },
     "execution_count": 46,
     "metadata": {},
     "output_type": "execute_result"
    }
   ],
   "source": [
    "menu[0:2:1]\n"
   ]
  },
  {
   "cell_type": "code",
   "execution_count": 85,
   "id": "143d9a81-dafb-4081-9794-40dbb6f98fbd",
   "metadata": {},
   "outputs": [
    {
     "name": "stdout",
     "output_type": "stream",
     "text": [
      "{'spicy miso ramen': {'01-count': 101566.0, '02-revenue': 1283414.0, '03-cogs': 600144.0, '04-profit': 683270.0}, 'tori paitan ramen': {'01-count': 100620.0, '02-revenue': 1271454.0, '03-cogs': 594550.0, '04-profit': 676904.0}, 'truffle butter ramen': {'01-count': 98732.0, '02-revenue': 1247592.0, '03-cogs': 583388.0, '04-profit': 664204.0}, 'tonkotsu ramen': {'01-count': 102086.0, '02-revenue': 1289984.0, '03-cogs': 603212.0, '04-profit': 686772.0}, 'vegetarian spicy miso': {'01-count': 101318.0, '02-revenue': 1280278.0, '03-cogs': 598672.0, '04-profit': 681606.0}, 'shio ramen': {'01-count': 100966.0, '02-revenue': 1275838.0, '03-cogs': 596612.0, '04-profit': 679226.0}, 'miso crab ramen': {'01-count': 97742.0, '02-revenue': 1235086.0, '03-cogs': 577544.0, '04-profit': 657542.0}, 'nagomi shoyu': {'01-count': 100426.0, '02-revenue': 1268996.0, '03-cogs': 593410.0, '04-profit': 675586.0}, 'soft-shell miso crab ramen': {'01-count': 100418.0, '02-revenue': 1268910.0, '03-cogs': 593370.0, '04-profit': 675540.0}, 'burnt garlic tonkotsu ramen': {'01-count': 99762.0, '02-revenue': 1260626.0, '03-cogs': 589494.0, '04-profit': 671132.0}, 'vegetarian curry + king trumpet mushroom ramen': {'01-count': 97064.0, '02-revenue': 1226536.0, '03-cogs': 573560.0, '04-profit': 652976.0}}\n"
     ]
    }
   ],
   "source": [
    "\n",
    "# @TODO: Initialize dict object to hold our key-value pairs of items and metrics\n",
    "report = {}\n",
    "\n",
    "# Initialize a row counter variable\n",
    "row_count = 0\n",
    "quantity = 0\n",
    "sales_item = 0\n",
    "item = 0\n",
    "price = 0\n",
    "cost = 0\n",
    "profit = 0\n",
    "# @TODO: Loop over every row in the sales list object\n",
    "for x in sales:\n",
    "    quantity = float(x[3])\n",
    "    sales_item = x[4]\n",
    "    if sales_item not in report.keys():\n",
    "        \n",
    "        report[sales_item] = {\n",
    "            \"01-count\": 0,\n",
    "            \"02-revenue\": 0,\n",
    "            \"03-cogs\": 0,\n",
    "            \"04-profit\": 0,\n",
    "        }\n",
    "    for y in menu:\n",
    "        item = y[0]\n",
    "        price = float(y[3])\n",
    "        cost = float(y[4])\n",
    "        \n",
    "        for z in report.keys():\n",
    "            key = z\n",
    "            if key == item:\n",
    "                report[sales_item][\"01-count\"] += quantity\n",
    "                report[sales_item][\"02-revenue\"] += (price * quantity)\n",
    "                report[sales_item][\"03-cogs\"] += (cost * quantity)\n",
    "                report[sales_item][\"04-profit\"] += ((price - cost) * quantity)\n",
    "print(report)\n"
   ]
  },
  {
   "cell_type": "code",
   "execution_count": null,
   "id": "b79bd359-a6c9-4421-8d05-f793da32bae4",
   "metadata": {},
   "outputs": [],
   "source": [
    "\n",
    "\n",
    "    # Line_Item_ID,Date,Credit_Card_Number,Quantity,Menu_Item\n",
    "    # @TODO: Initialize sales data variables\n",
    "\n",
    "\n",
    "    # @TODO:\n",
    "    # If the item value not in the report, add it as a new entry with initialized metrics\n",
    "    # Naming convention allows the keys to be ordered in logical fashion, count, revenue, cost, profit\n",
    "\n",
    "\n",
    "\n",
    "\n",
    "\n",
    "\n",
    "\n",
    "\n",
    "    # @TODO: For every row in our sales data, loop over the menu records to determine a match\n",
    "\n",
    "\n",
    "        # Item,Category,Description,Price,Cost\n",
    "        # @TODO: Initialize menu data variables\n",
    "\n",
    "\n",
    "\n",
    "\n",
    "        # @TODO: Calculate profit of each item in the menu data\n",
    "\n",
    "\n",
    "        # @TODO: If the item value in our sales data is equal to the any of the items in the menu, then begin tracking metrics for that item\n",
    "\n",
    "\n",
    "            # @TODO: Print out matching menu data\n",
    "\n",
    "\n",
    "\n",
    "\n",
    "\n",
    "\n",
    "            # @TODO: Cumulatively add up the metrics for each item key\n",
    "\n",
    "\n",
    "\n",
    "\n",
    "\n",
    "        # @TODO: Else, the sales item does not equal any fo the item in the menu data, therefore no match\n",
    "\n",
    "\n",
    "\n",
    "    # @TODO: Increment the row counter by 1\n",
    "\n",
    "\n",
    "# @TODO: Print total number of records in sales data\n",
    "\n",
    "\n",
    "\n",
    "\n",
    "# @TODO: Write out report to a text file (won't appear on the command line output)"
   ]
  },
  {
   "cell_type": "code",
   "execution_count": 82,
   "id": "738af7cc-9974-4e0c-93d2-64398c2c07e7",
   "metadata": {},
   "outputs": [],
   "source": [
    "txt_report = open('report.txt', 'w')\n",
    "txt_report.write(str(txt_report))\n",
    "txt_report.close()"
   ]
  },
  {
   "cell_type": "code",
   "execution_count": null,
   "id": "a97d885e-7f0c-479f-aa97-35f5672928b6",
   "metadata": {},
   "outputs": [],
   "source": [
    "with open('report.txt', 'w') as f:\n",
    "    f.writelines(report)"
   ]
  },
  {
   "cell_type": "code",
   "execution_count": null,
   "id": "9b748fce-1280-4898-8364-c8e4b29b55e8",
   "metadata": {},
   "outputs": [],
   "source": [
    "\n",
    "    else:\n",
    "        report[sales_item][\"01-count\"] += quantity"
   ]
  }
 ],
 "metadata": {
  "kernelspec": {
   "display_name": "Python 3 (ipykernel)",
   "language": "python",
   "name": "python3"
  },
  "language_info": {
   "codemirror_mode": {
    "name": "ipython",
    "version": 3
   },
   "file_extension": ".py",
   "mimetype": "text/x-python",
   "name": "python",
   "nbconvert_exporter": "python",
   "pygments_lexer": "ipython3",
   "version": "3.7.13"
  },
  "toc-autonumbering": true,
  "toc-showcode": true,
  "toc-showmarkdowntxt": true
 },
 "nbformat": 4,
 "nbformat_minor": 5
}
