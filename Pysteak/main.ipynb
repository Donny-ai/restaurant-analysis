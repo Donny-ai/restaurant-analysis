{
 "cells": [
  {
   "cell_type": "code",
   "execution_count": 42,
   "id": "7149326d-08e2-40fa-bad4-6c743fb481a1",
   "metadata": {},
   "outputs": [],
   "source": [
    "# -*- coding: UTF-8 -*-\n",
    "\"\"\"PySteak Homework Starter.\"\"\"\n",
    "\n",
    "# Import libraries\n",
    "import csv\n",
    "from pathlib import Path\n",
    "\n",
    "# Set file paths for menu_data.csv and sales_data.csv\n",
    "menu_filepath = Path('Resources/menu_data.csv')\n",
    "sales_filepath = Path('Resources/sales_data.csv')\n",
    "\n",
    "# Initialize list objects to hold our menu and sales data\n",
    "menu = []\n",
    "sales = []\n",
    "menuline_num=0\n",
    "salesline_num=0"
   ]
  },
  {
   "cell_type": "code",
   "execution_count": 43,
   "id": "6c7f0111-add2-4c08-bafb-e130a37c0a6c",
   "metadata": {},
   "outputs": [
    {
     "name": "stdout",
     "output_type": "stream",
     "text": [
      "<class '_io.TextIOWrapper'>\n",
      "<class '_csv.reader'>\n",
      "HEADER: ['item', 'category', 'description', 'price', 'cost']\n"
     ]
    }
   ],
   "source": [
    "# Read in the menu data into the menu list\n",
    "with open(menu_filepath, 'r') as file:\n",
    "    \n",
    "    print(type(file))\n",
    "    \n",
    "    csvreader = csv.reader(file, delimiter=',')\n",
    "    print(type(csvreader))\n",
    "    \n",
    "    header = next(csvreader)\n",
    "    menuline_num += 1\n",
    "    print(f'HEADER: {header}')\n",
    "\n",
    "    for row in csvreader:\n",
    "        \n",
    "        next_row = row\n",
    "        menu.append(next_row)"
   ]
  },
  {
   "cell_type": "code",
   "execution_count": 44,
   "id": "c51dc7ec-7fe9-4327-b1f6-f86a9e7dd780",
   "metadata": {},
   "outputs": [
    {
     "name": "stdout",
     "output_type": "stream",
     "text": [
      "<class '_io.TextIOWrapper'>\n",
      "<class '_csv.reader'>\n",
      "HEADER: ['Line_Item_ID', 'Date', 'Credit_Card_Number', 'Quantity', 'Menu_Item']\n"
     ]
    }
   ],
   "source": [
    "# Read in the sales data into the sales list\n",
    "with open(sales_filepath, 'r') as file:\n",
    "    \n",
    "    print(type(file))\n",
    "    \n",
    "    csvreader = csv.reader(file, delimiter=',')\n",
    "    print(type(csvreader))\n",
    "    \n",
    "    header = next(csvreader)\n",
    "    salesline_num += 1\n",
    "    print(f'HEADER: {header}')\n",
    "\n",
    "    for row in csvreader:\n",
    "        \n",
    "        next_row = row\n",
    "        sales.append(next_row)"
   ]
  },
  {
   "cell_type": "code",
   "execution_count": 87,
   "id": "17e81863-9cb0-4042-b3ab-39f90561ceaa",
   "metadata": {},
   "outputs": [],
   "source": [
    "# list slicing test\n",
    "# menu[0:2:1]"
   ]
  },
  {
   "cell_type": "code",
   "execution_count": 88,
   "id": "143d9a81-dafb-4081-9794-40dbb6f98fbd",
   "metadata": {},
   "outputs": [
    {
     "name": "stdout",
     "output_type": "stream",
     "text": [
      "74124\n"
     ]
    }
   ],
   "source": [
    "\n",
    "# Initialize dict object to hold our key-value pairs of items and metrics\n",
    "report = {}\n",
    "\n",
    "# Initialize row counter, quantity, sales_item, item, price, cost, profit  variables\n",
    "row_count = 0\n",
    "quantity = 0\n",
    "sales_item = 0\n",
    "item = 0\n",
    "price = 0\n",
    "cost = 0\n",
    "profit = 0\n",
    "# Loop over every row in the sales list object, capture variables\n",
    "for x in sales:\n",
    "    quantity = float(x[3])\n",
    "    sales_item = x[4]\n",
    "    # Check if sales_item is not in dictionary keys\n",
    "    if sales_item not in report.keys():\n",
    "        # then initialize values for each sales_item\n",
    "        report[sales_item] = {\n",
    "            \"01-count\": 0,\n",
    "            \"02-revenue\": 0,\n",
    "            \"03-cogs\": 0,\n",
    "            \"04-profit\": 0,\n",
    "        }\n",
    "    # Loop over every row in menu list object, capture variables\n",
    "    for y in menu:\n",
    "        item = y[0]\n",
    "        price = float(y[3])\n",
    "        cost = float(y[4])\n",
    "        # Loop over every key in dictionary\n",
    "        for z in report.keys():\n",
    "            key = z\n",
    "            if key == item:\n",
    "                report[sales_item][\"01-count\"] += quantity\n",
    "                report[sales_item][\"02-revenue\"] += (price * quantity)\n",
    "                report[sales_item][\"03-cogs\"] += (cost * quantity)\n",
    "                report[sales_item][\"04-profit\"] += ((price - cost) * quantity)\n",
    "    row_count += 1\n",
    "    \n",
    "\n",
    "# Print total number of records in sales data\n",
    "print(\"Total number of records in sales data: \" row_count)\n"
   ]
  },
  {
   "cell_type": "code",
   "execution_count": null,
   "id": "b79bd359-a6c9-4421-8d05-f793da32bae4",
   "metadata": {},
   "outputs": [],
   "source": [
    "\n",
    "\n",
    "    # Line_Item_ID,Date,Credit_Card_Number,Quantity,Menu_Item\n",
    "    # @TODO: Initialize sales data variables\n",
    "\n",
    "\n",
    "    # @TODO:\n",
    "    # If the item value not in the report, add it as a new entry with initialized metrics\n",
    "    # Naming convention allows the keys to be ordered in logical fashion, count, revenue, cost, profit\n",
    "\n",
    "\n",
    "\n",
    "\n",
    "\n",
    "\n",
    "\n",
    "\n",
    "    # @TODO: For every row in our sales data, loop over the menu records to determine a match\n",
    "\n",
    "\n",
    "        # Item,Category,Description,Price,Cost\n",
    "        # @TODO: Initialize menu data variables\n",
    "\n",
    "\n",
    "\n",
    "\n",
    "        # @TODO: Calculate profit of each item in the menu data\n",
    "\n",
    "\n",
    "        # @TODO: If the item value in our sales data is equal to the any of the items in the menu, then begin tracking metrics for that item\n",
    "\n",
    "\n",
    "            # @TODO: Print out matching menu data\n",
    "\n",
    "\n",
    "\n",
    "\n",
    "\n",
    "\n",
    "            # @TODO: Cumulatively add up the metrics for each item key\n",
    "\n",
    "\n",
    "\n",
    "\n",
    "\n",
    "        # @TODO: Else, the sales item does not equal any fo the item in the menu data, therefore no match\n",
    "\n",
    "\n",
    "\n",
    "    # @TODO: Increment the row counter by 1\n",
    "\n",
    "\n",
    "# @TODO: Print total number of records in sales data\n",
    "\n",
    "\n",
    "\n",
    "\n",
    "# @TODO: Write out report to a text file (won't appear on the command line output)"
   ]
  },
  {
   "cell_type": "code",
   "execution_count": 82,
   "id": "738af7cc-9974-4e0c-93d2-64398c2c07e7",
   "metadata": {},
   "outputs": [],
   "source": [
    "txt_report = open('report.txt', 'w')\n",
    "txt_report.write(str(txt_report))\n",
    "txt_report.close()"
   ]
  },
  {
   "cell_type": "code",
   "execution_count": null,
   "id": "a97d885e-7f0c-479f-aa97-35f5672928b6",
   "metadata": {},
   "outputs": [],
   "source": [
    "with open('report.txt', 'w') as f:\n",
    "    f.writelines(report)"
   ]
  },
  {
   "cell_type": "code",
   "execution_count": null,
   "id": "9b748fce-1280-4898-8364-c8e4b29b55e8",
   "metadata": {},
   "outputs": [],
   "source": [
    "\n",
    "    else:\n",
    "        report[sales_item][\"01-count\"] += quantity"
   ]
  }
 ],
 "metadata": {
  "kernelspec": {
   "display_name": "Python 3 (ipykernel)",
   "language": "python",
   "name": "python3"
  },
  "language_info": {
   "codemirror_mode": {
    "name": "ipython",
    "version": 3
   },
   "file_extension": ".py",
   "mimetype": "text/x-python",
   "name": "python",
   "nbconvert_exporter": "python",
   "pygments_lexer": "ipython3",
   "version": "3.7.13"
  },
  "toc-autonumbering": true,
  "toc-showcode": true,
  "toc-showmarkdowntxt": true
 },
 "nbformat": 4,
 "nbformat_minor": 5
}
